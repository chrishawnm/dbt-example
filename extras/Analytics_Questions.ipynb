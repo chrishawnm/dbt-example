{
 "cells": [
  {
   "cell_type": "markdown",
   "id": "1ae808b7",
   "metadata": {},
   "source": [
    "Q1: Based on your user_engagement model, how would you define a power user?"
   ]
  },
  {
   "cell_type": "markdown",
   "id": "3bb0d165",
   "metadata": {},
   "source": [
    "I created an additional final table named gold_power_users. \n",
    "Within this table I selected a few fields that I thought reflected all users general behavior.\n",
    "Those fields were:\n",
    "1. Num Sessions\n",
    "2. Active Days\n",
    "3. Avg Docs Per Active Day\n",
    "4. Num Event Types\n",
    "\n",
    "I believe these highlighted how active an member was on our platform. But first I had to normalize the data which meant that I had to get the min and max value for that month of all users. Then place that users value on that scale that is now between 0 and 1 for that month. After I did this I thought that I could easily provide an engagement score that had weights to each (ex. .3, .3, .2, .2 or .25, .25, .25, .25) but this only resulted in the 75% of the users falling below .26. \n",
    "\n",
    "That made me realize a couple of things such as \n",
    "1. Data that we have is not enough to measure who is a power user \n",
    "2. Metrics that I have at my disposal are not good enough \n",
    "2. Users are not actively on the platform\n",
    "    \n",
    "With that in mind I decided to define what we could consider power users based upon the data and insights that we do have and keeping in mind that we may want to do a bit more scoping out for the above 3 concerns. \n",
    "\n",
    "To define a power user based on the data that we do have I decided to rank the engagement score data , identified in each month who's score would be considered 75th percentile and median percentile. Lastly, in the final gold table highlight who's high,medium and lower based upon if the are over 75th percentile, over 50th but lower than 75th percentile and lower than 50th percentile."
   ]
  },
  {
   "cell_type": "markdown",
   "id": "64cced53",
   "metadata": {},
   "source": [
    "Q2: What potential issues or data quality concerns does the data surface?\n",
    "(These could be anomalies, missing data, inconsistent definitions, etc.)"
   ]
  },
  {
   "cell_type": "markdown",
   "id": "f8439d11",
   "metadata": {},
   "source": [
    "From what I've observed with the original source data there wasn't anything wrong. \n",
    "After I started creating queries I have noticed that:\n",
    "1. Vault has more often that not had more num_docs than assistant or workflow. So you can not really compare apples to apples in this sense.\n",
    "2. 10 of the 29 firms has over 100 members and 1 firm had more than 500 so this can definitely skew the insights gleaned from user engagement and firm engagement comparisons.\n"
   ]
  },
  {
   "cell_type": "code",
   "execution_count": null,
   "id": "2d735f35",
   "metadata": {},
   "outputs": [],
   "source": []
  }
 ],
 "metadata": {
  "kernelspec": {
   "display_name": "Python 3 (ipykernel)",
   "language": "python",
   "name": "python3"
  },
  "language_info": {
   "codemirror_mode": {
    "name": "ipython",
    "version": 3
   },
   "file_extension": ".py",
   "mimetype": "text/x-python",
   "name": "python",
   "nbconvert_exporter": "python",
   "pygments_lexer": "ipython3",
   "version": "3.11.7"
  }
 },
 "nbformat": 4,
 "nbformat_minor": 5
}
